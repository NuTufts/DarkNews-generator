{
 "cells": [
  {
   "cell_type": "markdown",
   "metadata": {},
   "source": [
    "# Example 0\n",
    "\n",
    "---\n",
    "#### This notebook will go over a few of the basics of generating new physics events with DarkNews.\n",
    "\n",
    "Table of Contents:\n",
    "\n",
    "1) **Generation**\n",
    "    * generating events with the GenLauncher class\n",
    "    * generating events on the command line\n",
    "\n",
    "2) **Output**\n",
    "    * Main Pandas Dataframe\n",
    "    * Other formats printed to file\n",
    "        * loading pickled and parquet pandas dataframes\n",
    "        * loading numpy arrays with event information\n",
    "        * hepevt and hepmc3 printing (**Under development!**)\n",
    "\n",
    "3) **Inputs**\n",
    "    * Experiments\n",
    "    * Model parameters"
   ]
  },
  {
   "cell_type": "code",
   "execution_count": 1,
   "metadata": {},
   "outputs": [],
   "source": [
    "%load_ext autoreload\n",
    "%autoreload 2"
   ]
  },
  {
   "cell_type": "code",
   "execution_count": 2,
   "metadata": {},
   "outputs": [],
   "source": [
    "import os\n",
    "import numpy as np\n",
    "import pandas as pd\n",
    "from pathlib import Path\n",
    "\n",
    "import DarkNews as dn"
   ]
  },
  {
   "cell_type": "markdown",
   "metadata": {},
   "source": [
    "## 1) Generation\n",
    "\n",
    "Let us start by generating neutrino upscattering events using GenLauncher and then using the command line."
   ]
  },
  {
   "cell_type": "markdown",
   "metadata": {},
   "source": [
    "### `GenLauncher` class\n",
    "\n",
    "It is possible to run the generator through an instance of the `GenLauncher` class in the `DarkNews.GenLauncher` module.\n",
    "We create an instance of this class, specifying the parameters of the run, then we use the `run()` method on this instance.\n",
    "The created dataset can be found in the `data/` directory tree.\n",
    "Alternatively, it an be accessed via the `df` attribute.\n",
    "\n",
    "When using `GenLauncher`, the `run()` method accepts parameters as `log`, `verbose` or `logfile` (which can be also specified during the construction of the object).\n",
    "\n",
    "As an example, we start by considering a 3+1 model with a heavy Z'. In this case, the HNL decays are 3-body ones. In short, we compute\n",
    "\n",
    "$$ \\nu_\\mu A \\to (N_4 \\to \\nu e^+e^-) A $$ \n",
    "\n",
    "where $\\nu$ are all final state light neutrinos.\n"
   ]
  },
  {
   "cell_type": "code",
   "execution_count": 3,
   "metadata": {},
   "outputs": [
    {
     "name": "stdout",
     "output_type": "stream",
     "text": [
      "---------------------------------------------------------\n",
      "   ______           _        _   _                     \n",
      "   |  _  \\         | |      | \\ | |                    \n",
      "   | | | |__ _ _ __| | __   |  \\| | _____      _____   \n",
      "   | | | / _  | ___| |/ /   | .   |/ _ \\ \\ /\\ / / __|  \n",
      "   | |/ / (_| | |  |   <    | |\\  |  __/\\ V  V /\\__ \\  \n",
      "   |___/ \\__,_|_|  |_|\\_\\   \\_| \\_/\\___| \\_/\\_/ |___/  \n",
      "\n",
      "Initializing the three-portal model.\n",
      "---------------------------------------------------------\n",
      "Model:\n",
      "\t1 dirac heavy neutrino(s).\n",
      "\n"
     ]
    },
    {
     "name": "stdout",
     "output_type": "stream",
     "text": [
      "---------------------------------------------------------\n",
      "Experiment:\n",
      "\tminiboone_fhc\n",
      "\tfluxfile loaded: MiniBooNE_FHC.dat\n",
      "\tPOT: 1.875e+21\n",
      "\tnuclear targets: ['C12', 'H1']\n",
      "\tfiducial mass: [701.1428571428571, 116.85714285714286] tonnes\n",
      "\n",
      "Directory tree for this run already exists. Overriding it.\n",
      "---------------------------------------------------------\n",
      "Generating Events using the neutrino-nucleus upscattering engine\n",
      "\n",
      "nu(mu) C12 --> N4  C12 --> nu_light e+ e- C12\n",
      "Helicity conserving upscattering.\n",
      "N4 three-body decays.\n",
      "Parent N4 proper decay length: 2.234E+08 cm.\n",
      "\n",
      "Predicted (22 +/- 0.832) events.\n",
      "\n",
      "nu(mu) proton_in_C12 --> N4  proton_in_C12 --> nu_light e+ e- proton_in_C12\n",
      "Helicity conserving upscattering.\n",
      "N4 three-body decays.\n",
      "Parent N4 proper decay length: 2.218E+08 cm.\n",
      "\n",
      "Predicted (39.1 +/- 1.45) events.\n",
      "\n",
      "nu(mu) proton_in_H1 --> N4  proton_in_H1 --> nu_light e+ e- proton_in_H1\n",
      "Helicity conserving upscattering.\n",
      "N4 three-body decays.\n",
      "Parent N4 proper decay length: 2.235E+08 cm.\n",
      "\n",
      "Predicted (13.1 +/- 0.49) events.\n",
      "\n",
      "---------------------------------------------------------\n",
      "Generation successful\n",
      "\n",
      "Total events predicted:\n",
      "(74.2 +/- 1.74) events.\n",
      "\n",
      "---------------------------------------------------------\n",
      "Events in pandas dataframe saved to file successfully:\n",
      "data/miniboone_fhc/3plus1/m4_0.14_mzprime_1.25_dirac/pandas_df.pckl\n",
      "\n"
     ]
    }
   ],
   "source": [
    "from DarkNews import GenLauncher\n",
    "\n",
    "gen_object = GenLauncher(mzprime=1.25, m4=0.140, neval=1000, nu_flavors=['nu_mu'], noHF=True, HNLtype=\"dirac\", loglevel=\"INFO\")\n",
    "df_1 = gen_object.run()"
   ]
  },
  {
   "cell_type": "markdown",
   "metadata": {},
   "source": [
    "---\n",
    "We may consider another example, a 3+2 model with a light Z', and compute\n",
    "\n",
    "$$ \\nu_\\mu A \\to N_5 A \\to N_4 Z^\\prime A \\to N_4 e^+e^- A $$ \n",
    "\n",
    "neglecting upscattering to $N_4$. In this case, the HNL decays are 2-body decays. By simply passing a value for the N5 mass, DarkNews already knows to use a 3+2 model, however, by default, all N6 mixing elements are set to zero, so it is important to specify these when using 3 HNLs."
   ]
  },
  {
   "cell_type": "code",
   "execution_count": 4,
   "metadata": {},
   "outputs": [
    {
     "name": "stdout",
     "output_type": "stream",
     "text": [
      "---------------------------------------------------------\n",
      "   ______           _        _   _                     \n",
      "   |  _  \\         | |      | \\ | |                    \n",
      "   | | | |__ _ _ __| | __   |  \\| | _____      _____   \n",
      "   | | | / _  | ___| |/ /   | .   |/ _ \\ \\ /\\ / / __|  \n",
      "   | |/ / (_| | |  |   <    | |\\  |  __/\\ V  V /\\__ \\  \n",
      "   |___/ \\__,_|_|  |_|\\_\\   \\_| \\_/\\___| \\_/\\_/ |___/  \n",
      "\n",
      "Initializing the three-portal model.\n",
      "---------------------------------------------------------\n",
      "Model:\n",
      "\t2 dirac heavy neutrino(s).\n",
      "\n"
     ]
    },
    {
     "name": "stdout",
     "output_type": "stream",
     "text": [
      "---------------------------------------------------------\n",
      "Experiment:\n",
      "\tminiboone_fhc\n",
      "\tfluxfile loaded: MiniBooNE_FHC.dat\n",
      "\tPOT: 1.875e+21\n",
      "\tnuclear targets: ['C12', 'H1']\n",
      "\tfiducial mass: [701.1428571428571, 116.85714285714286] tonnes\n",
      "\n",
      "Directory tree for this run already exists. Overriding it.\n",
      "---------------------------------------------------------\n",
      "Generating Events using the neutrino-nucleus upscattering engine\n",
      "\n",
      "nu(mu) C12 --> N5  C12 --> N4 e+ e- C12\n",
      "Helicity conserving upscattering.\n",
      "N5 decays via on-shell Z'.\n",
      "Parent N5 proper decay length: 1.104E-12 cm.\n",
      "\n",
      "Predicted (1.05e+08 +/- 4.16e+06) events.\n",
      "\n",
      "nu(mu) C12 --> N5  C12 --> N4 e+ e- C12\n",
      "Helicity flipping upscattering.\n",
      "N5 decays via on-shell Z'.\n",
      "Parent N5 proper decay length: 1.103E-12 cm.\n",
      "\n",
      "Predicted (1.28e+04 +/- 502) events.\n",
      "\n",
      "nu(mu) proton_in_C12 --> N5  proton_in_C12 --> N4 e+ e- proton_in_C12\n",
      "Helicity conserving upscattering.\n",
      "N5 decays via on-shell Z'.\n",
      "Parent N5 proper decay length: 1.105E-12 cm.\n",
      "\n",
      "Predicted (2.01e+07 +/- 7.49e+05) events.\n",
      "\n",
      "nu(mu) proton_in_C12 --> N5  proton_in_C12 --> N4 e+ e- proton_in_C12\n",
      "Helicity flipping upscattering.\n",
      "N5 decays via on-shell Z'.\n",
      "Parent N5 proper decay length: 1.103E-12 cm.\n",
      "\n",
      "Predicted (1.22e+04 +/- 441) events.\n",
      "\n",
      "nu(mu) proton_in_H1 --> N5  proton_in_H1 --> N4 e+ e- proton_in_H1\n",
      "Helicity conserving upscattering.\n",
      "N5 decays via on-shell Z'.\n",
      "Parent N5 proper decay length: 1.104E-12 cm.\n",
      "\n",
      "Predicted (6.66e+06 +/- 2.48e+05) events.\n",
      "\n",
      "nu(mu) proton_in_H1 --> N5  proton_in_H1 --> N4 e+ e- proton_in_H1\n",
      "Helicity flipping upscattering.\n",
      "N5 decays via on-shell Z'.\n",
      "Parent N5 proper decay length: 1.104E-12 cm.\n",
      "\n",
      "Predicted (3.98e+03 +/- 150) events.\n",
      "\n",
      "---------------------------------------------------------\n",
      "Generation successful\n",
      "\n",
      "Total events predicted:\n",
      "(1.32e+08 +/- 4.24e+06) events.\n",
      "\n",
      "---------------------------------------------------------\n",
      "Events in pandas dataframe saved to file successfully:\n",
      "data/miniboone_fhc/3plus2/m5_0.14_m4_0.08_mzprime_0.03_dirac/pandas_df.pckl\n",
      "\n"
     ]
    }
   ],
   "source": [
    "gen_object_2 = GenLauncher(Umu5=1e-3, UD5=1/np.sqrt(2), chi=0.0031, gD=2, mzprime=0.03, m4=0.080, m5=0.140, neval=1000, HNLtype=\"dirac\")\n",
    "df_2 = gen_object_2.run(loglevel=\"INFO\")"
   ]
  },
  {
   "cell_type": "markdown",
   "metadata": {},
   "source": [
    "---\n",
    "\n",
    "Finally, let's try setting some model-independent interaction vertices."
   ]
  },
  {
   "cell_type": "code",
   "execution_count": 6,
   "metadata": {},
   "outputs": [],
   "source": [
    "kwargs = {'d_mu5': 1e-4, 'd_45': 0.1, 'deV': 1e-3, 'deA': 1e-3, 'dprotonV': 1e-3, 'loglevel': \"ERROR\"}\n",
    "gen_object_3 = dn.GenLauncher(mzprime=0.03, m4=0.080, m5=0.140, neval=1000, HNLtype=\"dirac\", **kwargs)\n",
    "df_3 = gen_object_3.run()"
   ]
  },
  {
   "cell_type": "markdown",
   "metadata": {},
   "source": [
    "---\n",
    "### `dn_gen` command line functionality\n",
    "\n",
    "It is also possible to run the generator in the command line via the `dn_gen` script passing the parameters as arguments.\n",
    "The created dataset can be found in the `data/` directory tree, which is created in the same folder the script is run.\n",
    "\n",
    "Let's try to run another example. We are running this from the jupyter notebook, but you may as well run it from your own command line.\n"
   ]
  },
  {
   "cell_type": "code",
   "execution_count": 7,
   "metadata": {
    "scrolled": true
   },
   "outputs": [
    {
     "name": "stdout",
     "output_type": "stream",
     "text": [
      "WARNING: HEPevt is not a lossless format -- you will lose the event weights. If you want to force-print weights, use the hepevt_legacy format instead. Otherwise, please set hep_unweight=True and set the desired number of unweighted events.\n",
      "WARNING::WriterHEPEVT::WriterHEPEVT: HEPEVT format is outdated. Please use HepMC3 format instead.\n"
     ]
    }
   ],
   "source": [
    "cmd_string = \"dn_gen --mzprime=0.03 --m4=0.140 --alpha_epsilon2=2e-10 --Umu4=1e-4 --UD4=1 --alphaD=0.25 --neval=1000 --HNLtype=dirac --loglevel=WARNING --hepevt --numpy --pandas --parquet\"\n",
    "_=os.system(cmd_string)"
   ]
  },
  {
   "cell_type": "markdown",
   "metadata": {},
   "source": [
    "---\n",
    "# 2) Output format\n",
    "\n",
    "### Pandas DataFrame Output\n",
    "\n",
    "Let's start by looking at the main DarkNews dataframe returned by `GenLancher`\n",
    "\n",
    "Our main object is a `MultiIndex dataframe`, with:\n",
    "* rows corresponding to individual events \n",
    "\n",
    "    * Each event contains the components for all the 4-momenta of the particles involved:\n",
    "$$\\nu _\\text{P\\_projectile} + \\text{Hadronic target} _\\text{P\\_target} \\to N _\\text{P\\_decay\\_N\\_parent} + \\text{Hadronic recoil} _\\text{P\\_recoil}$$\n",
    "\n",
    "\n",
    "* Columns are properties, including four momenta, event rate weights, event scattering regime, scattering and decay positions, scattering target, etc.\n",
    "* Subcolumns correspond to Lorentz indices for four momenta and position 4-vectors.\n",
    "* metadata information inside `df.attrs`"
   ]
  },
  {
   "cell_type": "markdown",
   "metadata": {},
   "source": [
    "\n",
    "| **Column**            | **Subcolumn** |**type**  | **description**|\n",
    "|:--------------------------|:--------:|:--------:|:-----------------------------------|\n",
    "| **P\\_projectile**         | 0, 1, 2, 3  | `float`  | 4-momenta of beam neutrino |\n",
    "| **P\\_decay\\_N\\_parent**   | 0, 1, 2, 3  | `float`  | 4-momenta of HNL\\_parent |\n",
    "| **P\\_target**             | 0, 1, 2, 3  | `float`  | 4-momenta of nucleus |\n",
    "| **P\\_recoil**             | 0, 1, 2, 3  | `float`  | 4-momenta of recoiled nucleus |\n",
    "| **P\\_decay\\_photon**      | 0, 1, 2, 3  | `float`  | 4-momenta of photon (if it exists)|\n",
    "| **P\\_decay\\_ell\\_minus**  | 0, 1, 2, 3  | `float`  | 4-momenta of e- (if it exists)|\n",
    "| **P\\_decay\\_ell\\_plus**   | 0, 1, 2, 3  | `float`  | 4-momenta of e+ (if it exists)|\n",
    "| **P\\_decay\\_N\\_daughter** | 0, 1, 2, 3  | `float`  | 4-momenta of HNL\\_daughter / nu\\_daughter |\n",
    "| **pos_scatt**             | 0, 1, 2, 3  | `float`  | upscattering position|\n",
    "| **pos_decay**             | 0, 1, 2, 3  | `float`  | decay position of primary particle (N\\_parent) -- no secondary decay position is saved. |\n",
    "| **w\\_decay\\_rate\\_0**     | <!-- --> | `float`  | Weight of the decay rate of primary unstable particle: &Sigma;<sub>i</sub> w<sub>i</sub> = &Gamma;<sub>N</sub> |\n",
    "| **w\\_decay\\_rate\\_1**     | <!-- --> | `float`  | Weight of the decay rate of secondary unstable particle: &Sigma;<sub>i</sub> w<sub>i</sub> = &Gamma;<sub>X</sub> |\n",
    "| **w\\_event\\_rate**        | <!-- --> | `float`  | Weight for the event rate: &Sigma;<sub>i</sub> w<sub>i</sub> = event rate |\n",
    "| **w\\_flux\\_avg\\_xsec**    | <!-- --> | `float`  | Weight of the flux averaged cross section: &Sigma;<sub>i</sub> w<sub>i</sub> = int(sigma &sdot; flux) &sdot; exposure |\n",
    "| **target**                | <!-- --> | *string* | Name of the target object, it will typically be a nucleus |\n",
    "| **target\\_pdgid**         | <!-- --> | `int`    | PDG id of the target |\n",
    "| **projectile\\_pdgid**         | <!-- --> | `int`    | PDG id of the neutrino projectile |\n",
    "| **scattering\\_regime**    | <!-- --> | *string* | Regime can be coherent or p-elastic |\n",
    "| **helicity**              | <!-- --> | *string* | Helicity process: can be flipping or conserving; flipping is suppressed |\n",
    "| **underlying\\_process**   | <!-- --> | *string* | String of the underlying process, e.g, \"nu(mu) + proton_in_C12 -> N4 +  proton_in_C12 -> nu(mu) + e+ + e- + proton_in_C12\" |\n"
   ]
  },
  {
   "cell_type": "code",
   "execution_count": 8,
   "metadata": {},
   "outputs": [
    {
     "name": "stdout",
     "output_type": "stream",
     "text": [
      "('P_projectile', '0') ('P_projectile', '1') ('P_projectile', '2') ('P_projectile', '3') ('P_target', '0') ('P_target', '1') ('P_target', '2') ('P_target', '3') ('P_recoil', '0') ('P_recoil', '1') ('P_recoil', '2') ('P_recoil', '3') ('P_decay_N_parent', '0') ('P_decay_N_parent', '1') ('P_decay_N_parent', '2') ('P_decay_N_parent', '3') ('P_decay_ell_minus', '0') ('P_decay_ell_minus', '1') ('P_decay_ell_minus', '2') ('P_decay_ell_minus', '3') ('P_decay_ell_plus', '0') ('P_decay_ell_plus', '1') ('P_decay_ell_plus', '2') ('P_decay_ell_plus', '3') ('P_decay_N_daughter', '0') ('P_decay_N_daughter', '1') ('P_decay_N_daughter', '2') ('P_decay_N_daughter', '3') ('w_decay_rate_0', '') ('w_event_rate', '') ('target_pdgid', '') ('projectile_pdgid', '') ('w_flux_avg_xsec', '') ('target', '') ('scattering_regime', '') ('helicity', '') ('underlying_process', '') ('h_projectile', '') ('h_parent', '') ('pos_scatt', '0') ('pos_scatt', '1') ('pos_scatt', '2') ('pos_scatt', '3') ('pos_prod', '1') ('pos_prod', '2') ('pos_prod', '3') ('pos_decay', '0') ('pos_decay', '1') ('pos_decay', '2') ('pos_decay', '3')\n"
     ]
    }
   ],
   "source": [
    "print(*df_1)"
   ]
  },
  {
   "cell_type": "markdown",
   "metadata": {},
   "source": [
    "---\n",
    "### Metadata\n",
    "\n",
    "In addition to the information about the events, the pickled or GenLauncher-returned pandas dataframe contains metadata on the model, experiment, and data path properties, all stored in [df.attrs](https://pandas.pydata.org/pandas-docs/stable/reference/api/pandas.DataFrame.attrs.html). We have:\n",
    "\n",
    "1. **experiment**: this is a class DarkNews.experiment.Detector, which contains all the information about the experiment for which the events are generated. It also contains a list of instances of the NuclearTarget class, which contains information about the different scattering targets used.\n"
   ]
  },
  {
   "cell_type": "code",
   "execution_count": 9,
   "metadata": {},
   "outputs": [
    {
     "name": "stdout",
     "output_type": "stream",
     "text": [
      "Attributes of Detector class: \n",
      " NAME FLUXFILE FLUX_NORM ERANGE NUCLEAR_TARGETS POTS FIDUCIAL_MASS_PER_TARGET NUMBER_OF_TARGETS FLUX_FUNCTIONS place_scatters\n",
      "\n",
      "Attributes of NuclearTarget class: \n",
      " name Z N A atomic_Eb nuclear_Eb atomic_mass excess_mass nuclear_mass beta_decay_energy mass charge is_hadron is_nucleus is_proton is_neutron is_nucleon is_free_nucleon is_bound_nucleon pdgid tau3 F1_EM F2_EM F1_NC F2_NC F3_NC\n"
     ]
    }
   ],
   "source": [
    "keys = list(df_1.attrs['experiment'].__dict__.keys())\n",
    "print(f\"Attributes of Detector class: \\n\", *keys)\n",
    "print(f\"\\nAttributes of NuclearTarget class: \\n\", *list(df_1.attrs['experiment'].NUCLEAR_TARGETS[0].__dict__))"
   ]
  },
  {
   "cell_type": "markdown",
   "metadata": {},
   "source": [
    "Now we look at how to obtain the nuclear targets used by the DarkNews generator"
   ]
  },
  {
   "cell_type": "code",
   "execution_count": 10,
   "metadata": {},
   "outputs": [
    {
     "name": "stdout",
     "output_type": "stream",
     "text": [
      "701.14 tonnes of C12\n",
      "116.86 tonnes of H1\n"
     ]
    }
   ],
   "source": [
    "fid_mass = df_1.attrs['experiment'].FIDUCIAL_MASS_PER_TARGET\n",
    "for target, fid_mass in zip(df_1.attrs['experiment'].NUCLEAR_TARGETS, df_1.attrs['experiment'].FIDUCIAL_MASS_PER_TARGET):\n",
    "    print(f\"{fid_mass:.2f} tonnes of {target.name}\")"
   ]
  },
  {
   "cell_type": "markdown",
   "metadata": {},
   "source": [
    "---\n",
    "2. **model**: this attribute contains DarkNews.model.Model, which stores all the new physics parameters used in the generation. This includes both low-level information, such as the couplings, say $g_D$, as well as high-level ones, such as the couplings of the $Z^\\prime$ to electrons, $d_e^V$ and $d_e^A$."
   ]
  },
  {
   "cell_type": "code",
   "execution_count": 11,
   "metadata": {},
   "outputs": [
    {
     "name": "stdout",
     "output_type": "stream",
     "text": [
      "dict_keys(['experiment', 'model', 'N5_ctau0', 'data_path'])\n",
      "2.2059237706016695e-10\n"
     ]
    }
   ],
   "source": [
    "print(df_3.attrs.keys())\n",
    "\n",
    "print(df_3.attrs['N5_ctau0'])"
   ]
  },
  {
   "cell_type": "code",
   "execution_count": 12,
   "metadata": {
    "scrolled": true
   },
   "outputs": [
    {
     "name": "stdout",
     "output_type": "stream",
     "text": [
      "Some low-level parameters:\n",
      " model_file user_input name m4 m5 m6 HNLtype mzprime mhprime mu_tr_e4 mu_tr_e5 mu_tr_e6 mu_tr_mu4 mu_tr_mu5 mu_tr_mu6 mu_tr_tau4 mu_tr_tau5 mu_tr_tau6 mu_tr_44  ...\n",
      "\n",
      "Some high-level parameters:\n",
      " fd fs fN_higgs c_nucleon_higgs cnucleonS ceS deS deP is_mass_mixed has_Zboson_coupling has_vector_coupling zprime has_scalar_coupling has_TMM  ...\n"
     ]
    }
   ],
   "source": [
    "print(\"Some low-level parameters:\\n\", *list(df_1.attrs['model'].__dict__.keys())[:19],' ...')\n",
    "print(\"\\nSome high-level parameters:\\n\", *list(df_1.attrs['model'].__dict__.keys())[-14:],' ...')"
   ]
  },
  {
   "cell_type": "markdown",
   "metadata": {},
   "source": [
    "---\n",
    "### Other output formats\n",
    "\n",
    "Let's now look at some other formats printed to file."
   ]
  },
  {
   "cell_type": "code",
   "execution_count": 13,
   "metadata": {
    "scrolled": true
   },
   "outputs": [
    {
     "name": "stderr",
     "output_type": "stream",
     "text": [
      "/var/folders/dl/ccbsfs591r1fhgcws28m8xy40000gn/T/ipykernel_18598/2623147467.py:14: VisibleDeprecationWarning: importing ReaderHEPEVT from pyhepmc is deprecated, please import from pyhepmc.io\n",
      "  hepevt_file = hep.ReaderHEPEVT(str(path_to_data/'HEPevt.dat'))\n"
     ]
    }
   ],
   "source": [
    "path_to_data = Path('./data/miniboone_fhc/3plus1/m4_0.14_mzprime_0.03_dirac/')\n",
    "\n",
    "# pickled pandas dataframe \n",
    "df_p = pd.read_pickle(path_to_data/'pandas_df.pckl')\n",
    "\n",
    "# pandas dataframe from parquet\n",
    "df_p_pq = pd.read_parquet(path_to_data/'pandas_df.parquet')\n",
    "\n",
    "# numpy ndarray\n",
    "nd_a = np.load(path_to_data/'ndarray.npy')\n",
    "\n",
    "# HEPEVT \n",
    "import pyhepmc as hep\n",
    "hepevt_file = hep.ReaderHEPEVT(str(path_to_data/'HEPevt.dat'))\n",
    "evt = hepevt_file.read_event\n"
   ]
  },
  {
   "cell_type": "code",
   "execution_count": 14,
   "metadata": {},
   "outputs": [
    {
     "data": {
      "text/plain": [
       "Text(0.5, 0, '$E_\\\\nu/$GeV')"
      ]
     },
     "execution_count": 14,
     "metadata": {},
     "output_type": "execute_result"
    },
    {
     "data": {
      "image/png": "[encoded data removed]",
      "text/plain": [
       "<Figure size 1000x400 with 1 Axes>"
      ]
     },
     "metadata": {},
     "output_type": "display_data"
    }
   ],
   "source": [
    "# and now histogram neutrino energy as an example\n",
    "fig, ax = dn.plot_tools.std_fig(figsize=(10,4))\n",
    "\n",
    "_=ax.hist(df_p['P_projectile','0'], weights=df_p['w_event_rate',''], bins=50, histtype='step', label='pickled')\n",
    "_=ax.hist(df_p_pq['P_projectile','0'], weights=df_p_pq['w_event_rate',''], bins=50, ls='--', histtype='step', label='parquet')\n",
    "\n",
    "# unfortunately, the columns of the numpy array format are not specified and the correspondence is done by hand\n",
    "_=ax.hist(nd_a[:,0], weights=nd_a[:,-4], bins=50, ls=':', color='violet', histtype='step', label='numpy')\n",
    "\n",
    "ax.legend()\n",
    "ax.set_ylabel('Events')\n",
    "ax.set_xlabel(r'$E_\\nu/$GeV')"
   ]
  },
  {
   "cell_type": "code",
   "execution_count": 15,
   "metadata": {},
   "outputs": [
    {
     "data": {
      "text/plain": [
       "Text(0.5, 0, '$\\\\Delta \\\\theta_{ee}$ (degrees)')"
      ]
     },
     "execution_count": 15,
     "metadata": {},
     "output_type": "execute_result"
    },
    {
     "data": {
      "image/png": "[encoded data removed]",
      "text/plain": [
       "<Figure size 1000x400 with 1 Axes>"
      ]
     },
     "metadata": {},
     "output_type": "display_data"
    }
   ],
   "source": [
    "# Let's compute something more interesting: opening angle of e+e-\n",
    "\n",
    "mee = np.arccos(dn.fourvec.df_cos_opening_angle(df_p['P_decay_ell_minus'], df_p['P_decay_ell_plus']))*dn.const.rad_to_deg\n",
    "\n",
    "fig, ax = dn.plot_tools.std_fig(figsize=(10,4))\n",
    "\n",
    "_=ax.hist(mee, weights=df_p['w_event_rate',''], bins=50, histtype='step', label='pickled')\n",
    "\n",
    "ax.legend()\n",
    "ax.set_ylabel('Events')\n",
    "ax.set_xlabel(r'$\\Delta \\theta_{ee}$ (degrees)')"
   ]
  },
  {
   "cell_type": "markdown",
   "metadata": {},
   "source": [
    "---\n",
    "# 3) Inputs\n",
    "\n",
    "\n",
    "### Experiments\n",
    "It is possible to select an experiment through the `experiment` argument of the `GenLauncher` class (or `--experiment` option of the command line interface):\n",
    "1. specifying a keyword for a pre-defined experiment among:\n",
    "    * DUNE FHC ND (`\"dune_nd_fhc\"`)\n",
    "    * DUNE RHC ND (`\"dune_nd_rhc\"`)\n",
    "    * MicroBooNE (`\"microboone\"`)\n",
    "    * MINERVA FHC LE (`\"minerva_le_fhc\"`)\n",
    "    * MINERVA FHC ME (`\"minerva_me_fhc\"`)\n",
    "    * MINERVA RHC ME (`\"minerva_me_rhc\"`)\n",
    "    * MiniBooNE FHC (`\"miniboone_fhc\"`)\n",
    "    * MINOS FHC LE (`\"minos_le_fhc\"`)\n",
    "    * MINOS FHC ME (`\"minos_me_fhc\"`)\n",
    "    * ND280 FHC (`\"nd280_fhc\"`)\n",
    "    * NOvA FHC (`\"nova_le_fhc\"`)\n",
    "    * NuTeV FHC (`\"nutev_fhc\"`)\n",
    "    * FASERv (`\"fasernu\"`)\n",
    "\n",
    "2. specifying the file path of an experiment file: every file should be specified using the same rules as for the parameters file.\n",
    "A template file [`template_custom_experiment.txt`](examples/template_custom_experiment.txt) can be found in this directory."
   ]
  },
  {
   "cell_type": "code",
   "execution_count": 16,
   "metadata": {},
   "outputs": [
    {
     "name": "stdout",
     "output_type": "stream",
     "text": [
      "dune_nd_fhc\n",
      "dune_nd_rhc\n",
      "microboone\n",
      "minerva_le_fhc\n",
      "minerva_me_fhc\n",
      "minerva_me_rhc\n",
      "miniboone_fhc\n",
      "minos_le_fhc\n",
      "nd280_fhc\n",
      "nova_le_fhc\n",
      "nutev_fhc\n",
      "fasernu\n"
     ]
    }
   ],
   "source": [
    "list_of_experiments = [\n",
    "'dune_nd_fhc',\n",
    "'dune_nd_rhc',\n",
    "'microboone',\n",
    "'minerva_le_fhc',\n",
    "'minerva_me_fhc',\n",
    "'minerva_me_rhc',\n",
    "'miniboone_fhc',\n",
    "'minos_le_fhc',\n",
    "'nd280_fhc',\n",
    "'nova_le_fhc',\n",
    "'nutev_fhc',\n",
    "'fasernu']\n",
    "\n",
    "rates = []\n",
    "for exp in list_of_experiments:\n",
    "    # use default model \n",
    "    print(exp)\n",
    "    gen_object = GenLauncher(experiment=exp, neval=200, loglevel='ERROR')\n",
    "    df=gen_object.run()\n",
    "    rates.append(sum(df.w_event_rate))"
   ]
  },
  {
   "cell_type": "markdown",
   "metadata": {},
   "source": [
    "Now we print the total rate in each expriment -- note we chose a very small number of evaluations. \n",
    "\n",
    "Note that these numbers don't mean anything without an appropriate definition of signal selection and fiducial volume. \n",
    "\n",
    "Exposures and target masses do not necessarily represent the official ones used by collaborations, nor are they optimized for this signature."
   ]
  },
  {
   "cell_type": "code",
   "execution_count": 17,
   "metadata": {},
   "outputs": [
    {
     "name": "stdout",
     "output_type": "stream",
     "text": [
      "dune_nd_fhc: 3.9e+03\n",
      "dune_nd_rhc: 3e+02\n",
      "microboone: 8.1\n",
      "minerva_le_fhc: 7.4\n",
      "minerva_me_fhc: 59\n",
      "minerva_me_rhc: 64\n",
      "miniboone_fhc: 74\n",
      "minos_le_fhc: 29\n",
      "nd280_fhc: 7\n",
      "nova_le_fhc: 3.6e+02\n",
      "nutev_fhc: 5.1\n",
      "fasernu: 0.01\n"
     ]
    }
   ],
   "source": [
    "for exp,rate in zip(list_of_experiments,rates):\n",
    "    print(f'{exp}: {rate:.2g}')"
   ]
  },
  {
   "cell_type": "markdown",
   "metadata": {},
   "source": [
    "---\n",
    "### Custom Experiment files\n",
    "\n",
    "And now we can input our own user-defined experimental files."
   ]
  },
  {
   "cell_type": "code",
   "execution_count": 18,
   "metadata": {},
   "outputs": [
    {
     "name": "stdout",
     "output_type": "stream",
     "text": [
      "---------------------------------------------------------\n",
      "   ______           _        _   _                     \n",
      "   |  _  \\         | |      | \\ | |                    \n",
      "   | | | |__ _ _ __| | __   |  \\| | _____      _____   \n",
      "   | | | / _  | ___| |/ /   | .   |/ _ \\ \\ /\\ / / __|  \n",
      "   | |/ / (_| | |  |   <    | |\\  |  __/\\ V  V /\\__ \\  \n",
      "   |___/ \\__,_|_|  |_|\\_\\   \\_| \\_/\\___| \\_/\\_/ |___/  \n",
      "\n",
      "Initializing the three-portal model.\n",
      "---------------------------------------------------------\n",
      "Model:\n",
      "\t1 dirac heavy neutrino(s).\n",
      "\n",
      "Warning: nuclear density for Li3 not tabulated in Nuclear Data Table. Using symmetrized Fermi form factor instead.\n",
      "---------------------------------------------------------\n",
      "Experiment:\n",
      "\tMy Experiment\n",
      "\tfluxfile loaded: ./fluxfile_uniform_0.1_200_GeV.dat\n",
      "\tPOT: 1e+20\n",
      "\tnuclear targets: ['H1', 'He3', 'Li3']\n",
      "\tfiducial mass: [0.3333333333333333, 0.3333333333333333, 0.3333333333333333] tonnes\n",
      "\n",
      "---------------------------------------------------------\n",
      "Generating Events using the neutrino-nucleus upscattering engine\n",
      "\n",
      "nu(mu) proton_in_H1 --> N4  proton_in_H1 --> nu_light e+ e- proton_in_H1\n",
      "Helicity conserving upscattering.\n",
      "N4 three-body decays.\n",
      "Experimental geometry for My Experiment not implemented, assuming scattering at (0,0,0,0)\n",
      "Parent N4 proper decay length: 1.588E+08 cm.\n",
      "\n",
      "Predicted (1.11e+08 +/- 1.36e+06) events.\n",
      "\n",
      "nu(mu) proton_in_H1 --> N4  proton_in_H1 --> nu_light e+ e- proton_in_H1\n",
      "Helicity flipping upscattering.\n",
      "N4 three-body decays.\n",
      "Experimental geometry for My Experiment not implemented, assuming scattering at (0,0,0,0)\n",
      "Parent N4 proper decay length: 1.588E+08 cm.\n",
      "\n",
      "Predicted (4.93e+04 +/- 603) events.\n",
      "\n",
      "nu(mu) He3 --> N4  He3 --> nu_light e+ e- He3\n",
      "Helicity conserving upscattering.\n",
      "N4 three-body decays.\n",
      "Experimental geometry for My Experiment not implemented, assuming scattering at (0,0,0,0)\n",
      "Parent N4 proper decay length: 1.589E+08 cm.\n",
      "\n",
      "Predicted (2.07e+07 +/- 2.47e+05) events.\n",
      "\n",
      "nu(mu) He3 --> N4  He3 --> nu_light e+ e- He3\n",
      "Helicity flipping upscattering.\n",
      "N4 three-body decays.\n",
      "Experimental geometry for My Experiment not implemented, assuming scattering at (0,0,0,0)\n",
      "Parent N4 proper decay length: 1.579E+08 cm.\n",
      "\n",
      "Predicted (5.45e+03 +/- 65.3) events.\n",
      "\n",
      "nu(mu) proton_in_He3 --> N4  proton_in_He3 --> nu_light e+ e- proton_in_He3\n",
      "Helicity conserving upscattering.\n",
      "N4 three-body decays.\n",
      "Experimental geometry for My Experiment not implemented, assuming scattering at (0,0,0,0)\n",
      "Parent N4 proper decay length: 1.588E+08 cm.\n",
      "\n",
      "Predicted (7.41e+07 +/- 9.09e+05) events.\n",
      "\n",
      "nu(mu) proton_in_He3 --> N4  proton_in_He3 --> nu_light e+ e- proton_in_He3\n",
      "Helicity flipping upscattering.\n",
      "N4 three-body decays.\n",
      "Experimental geometry for My Experiment not implemented, assuming scattering at (0,0,0,0)\n",
      "Parent N4 proper decay length: 1.581E+08 cm.\n",
      "\n",
      "Predicted (3.33e+04 +/- 403) events.\n",
      "\n",
      "nu(mu) Li3 --> N4  Li3 --> nu_light e+ e- Li3\n",
      "Helicity conserving upscattering.\n",
      "N4 three-body decays.\n",
      "Experimental geometry for My Experiment not implemented, assuming scattering at (0,0,0,0)\n",
      "Parent N4 proper decay length: 1.587E+08 cm.\n",
      "\n",
      "Predicted (3.37e+07 +/- 4.22e+05) events.\n",
      "\n",
      "nu(mu) Li3 --> N4  Li3 --> nu_light e+ e- Li3\n",
      "Helicity flipping upscattering.\n",
      "N4 three-body decays.\n",
      "Experimental geometry for My Experiment not implemented, assuming scattering at (0,0,0,0)\n",
      "Parent N4 proper decay length: 1.574E+08 cm.\n",
      "\n",
      "Predicted (6.87e+03 +/- 82.1) events.\n",
      "\n",
      "nu(mu) proton_in_Li3 --> N4  proton_in_Li3 --> nu_light e+ e- proton_in_Li3\n",
      "Helicity conserving upscattering.\n",
      "N4 three-body decays.\n",
      "Experimental geometry for My Experiment not implemented, assuming scattering at (0,0,0,0)\n",
      "Parent N4 proper decay length: 1.580E+08 cm.\n",
      "\n",
      "Predicted (1.12e+08 +/- 1.52e+06) events.\n",
      "\n",
      "nu(mu) proton_in_Li3 --> N4  proton_in_Li3 --> nu_light e+ e- proton_in_Li3\n",
      "Helicity flipping upscattering.\n",
      "N4 three-body decays.\n",
      "Experimental geometry for My Experiment not implemented, assuming scattering at (0,0,0,0)\n",
      "Parent N4 proper decay length: 1.587E+08 cm.\n",
      "\n",
      "Predicted (4.91e+04 +/- 599) events.\n",
      "\n",
      "---------------------------------------------------------\n",
      "Generation successful\n",
      "\n",
      "Total events predicted:\n",
      "(3.52e+08 +/- 2.29e+06) events.\n",
      "\n",
      "---------------------------------------------------------\n",
      "Events in pandas dataframe saved to file successfully:\n",
      "data/my_experiment/3plus1/m4_0.15_mzprime_1.25_dirac/pandas_df.pckl\n",
      "\n"
     ]
    }
   ],
   "source": [
    "cmd_string = \"dn_gen --experiment=./template_custom_experiment.txt --loglevel=INFO\"\n",
    "_=os.system(cmd_string)"
   ]
  },
  {
   "cell_type": "code",
   "execution_count": 19,
   "metadata": {},
   "outputs": [],
   "source": [
    "gen_object = GenLauncher(experiment=\"./template_custom_experiment.txt\", loglevel='ERROR')\n",
    "_=gen_object.run()"
   ]
  },
  {
   "cell_type": "markdown",
   "metadata": {},
   "source": [
    "---\n",
    "### Model files\n",
    "\n",
    "It is possible to specify model parameters through a file.\n",
    "This can be done either via the command-line interface, thorugh the option `--param-file` or via the `GenLauncher` class, thorugh the argument `param-file` in the constructor.\n",
    "In any case, the parameters specified in the file will overwrite the default ones, but will be overwritten by any other definition (either via options in command-line mode or via the keyword arguments in the `GenLauncher` constructor) of the same variable.\n",
    "\n",
    "A template file [`template_parameters_file.txt`](examples/template_parameters_file.txt) can be found in this directory.\n",
    "The file interface allows the user to specify the parameters with far more freedom, enabling the possibility to use mathematical expressions, involving user-defined constants, while keeping all the parameters in one single file."
   ]
  },
  {
   "cell_type": "code",
   "execution_count": 20,
   "metadata": {},
   "outputs": [],
   "source": [
    "cmd_string = \"dn_gen --param-file=./parameters_example_1.txt --loglevel=ERROR\"\n",
    "_=os.system(cmd_string)"
   ]
  },
  {
   "cell_type": "code",
   "execution_count": 21,
   "metadata": {},
   "outputs": [],
   "source": [
    "gen_object = GenLauncher(param_file=\"./parameters_example_1.txt\", loglevel='ERROR')\n",
    "df_1 = gen_object.run()"
   ]
  },
  {
   "cell_type": "code",
   "execution_count": 22,
   "metadata": {},
   "outputs": [],
   "source": [
    "cmd_string = \"dn_gen --param-file=./parameters_example_2.txt --loglevel=ERROR\"\n",
    "_=os.system(cmd_string)"
   ]
  },
  {
   "cell_type": "code",
   "execution_count": 23,
   "metadata": {},
   "outputs": [],
   "source": [
    "gen_object = GenLauncher(param_file=\"./parameters_example_2.txt\", loglevel='ERROR')\n",
    "df_2=gen_object.run()"
   ]
  }
 ],
 "metadata": {
  "kernelspec": {
   "display_name": "Python 3.9.12 ('base')",
   "language": "python",
   "name": "python3"
  },
  "language_info": {
   "codemirror_mode": {
    "name": "ipython",
    "version": 3
   },
   "file_extension": ".py",
   "mimetype": "text/x-python",
   "name": "python",
   "nbconvert_exporter": "python",
   "pygments_lexer": "ipython3",
   "version": "3.11.0"
  },
  "vscode": {
   "interpreter": {
    "hash": "3067ead486e059ec00ffe7555bdb889e6e264a24dc711bf108106cc7baee8d5d"
   }
  }
 },
 "nbformat": 4,
 "nbformat_minor": 4
}
